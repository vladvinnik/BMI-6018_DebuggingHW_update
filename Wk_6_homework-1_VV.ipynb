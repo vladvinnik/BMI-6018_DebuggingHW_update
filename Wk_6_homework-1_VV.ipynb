{
 "cells": [
  {
   "cell_type": "code",
   "execution_count": 15,
   "id": "d07bcda7",
   "metadata": {},
   "outputs": [
    {
     "name": "stdout",
     "output_type": "stream",
     "text": [
      "We are making an error in the loop.\n",
      "The correct answer is [2, 3, 4].\n"
     ]
    },
    {
     "data": {
      "text/plain": [
       "[6, 9, 12]"
      ]
     },
     "execution_count": 15,
     "metadata": {},
     "output_type": "execute_result"
    }
   ],
   "source": [
    "#1a\n",
    "\n",
    "def wrong_add_function(arg1, arg2):\n",
    "    arg1_index=0\n",
    "    correct_answer = [2,3,4]\n",
    "    while arg1_index < len(arg1):\n",
    "        arg_2_sum=0\n",
    "        for arg2_elements in arg2:\n",
    "            arg_2_sum = sum([arg1[arg1_index]+i for i in arg2])\n",
    "        arg1[arg1_index]=arg_2_sum\n",
    "        arg1_index+=1\n",
    "    print(f\"We are making an error in the loop.\")\n",
    "    print(f\"The correct answer is {correct_answer}.\")\n",
    "    return arg1\n",
    "    \n",
    "arg1 = [1,2,3]\n",
    "arg2 = [1,1,1]\n",
    "\n",
    "wrong_add_function(arg1, arg2)\n",
    "\n"
   ]
  },
  {
   "cell_type": "code",
   "execution_count": 35,
   "id": "932aba67",
   "metadata": {},
   "outputs": [
    {
     "data": {
      "text/plain": [
       "[2, 3, 4]"
      ]
     },
     "execution_count": 35,
     "metadata": {},
     "output_type": "execute_result"
    }
   ],
   "source": [
    "#1b\n",
    "#unclear to me from the way the question was written whether we have to keep the print statements in the code\n",
    "#for this question, so I decided to take them out. \n",
    "\n",
    "\n",
    "def correct_add_function(arg1, arg2):\n",
    "    arg1_index = 0\n",
    "    while arg1_index < len(arg1):\n",
    "        arg_2_sum = 0\n",
    "        for arg2_elements in arg2:\n",
    "            arg_2_sum = arg1[arg1_index]+arg2[arg1_index] #I made changes to this line\n",
    "            #loop 0: arg1_index = 0, arg_2_sum = arg1[0] + arg2[0] = 1 + 1\n",
    "            #Next loop: arg1_index = 1, arg_2_sum = arg1[1] + arg2[0=1] = 2 + 1\n",
    "            #Last loop: arg1_index = 2, arg_2_sum = arg1[2] + arg2[2] = 3 + 1\n",
    "            #Loop ends because arg1_index would = 3\n",
    "        arg1[arg1_index]=arg_2_sum\n",
    "        arg1_index+=1\n",
    "    return arg1\n",
    "    \n",
    "arg1 = [1,2,3]\n",
    "arg2 = [1,1,1]\n",
    "\n",
    "correct_add_function(arg1, arg2)\n"
   ]
  },
  {
   "cell_type": "code",
   "execution_count": 91,
   "id": "52afb370",
   "metadata": {},
   "outputs": [
    {
     "name": "stdout",
     "output_type": "stream",
     "text": [
      "[2, 3, 4]\n",
      "['1111', '2111', '3111']\n"
     ]
    }
   ],
   "source": [
    "# 2a\n",
    "# Update the numeric section of the function with your changes from 1 for both 2b and 2c\n",
    "# apparently this should give a different a answer than problem 1 but that was not clear from the \n",
    "# wording of the problem\n",
    "# we discussed that in the office hours\n",
    "\n",
    "def function_mod(arg1,arg2):\n",
    "    #numerical section\n",
    "   if sum([type(i)==int for i in arg1])==len(arg1) and \\ # copy/pasted from the homework, not sure why certain words are red, seems to run fine tho\n",
    "      sum([type(i)==int for i in arg2])==len(arg2):\n",
    "         arg1_index=0\n",
    "         while arg1_index < len(arg1):\n",
    "            arg_2_sum = 0\n",
    "            for arg2_elements in arg2:\n",
    "               arg_2_sum = arg1[arg1_index]+arg2[arg1_index] # code changed here with that from 1b\n",
    "            arg1[arg1_index]=arg_2_sum  \n",
    "            arg1_index+=1\n",
    "         return arg1\n",
    "   #string section\n",
    "   elif sum([type(i)==str for i in arg1])==len(arg1) and \\\n",
    "      sum([type(i)==str for i in arg2])==len(arg2):\n",
    "         arg1_index=0\n",
    "         while arg1_index < len(arg1):\n",
    "            arg_2_sum = ''\n",
    "            for arg2_elements in arg2:\n",
    "               arg_2_sum += arg2_elements\n",
    "            arg1[arg1_index]=arg1[arg1_index]+str(arg_2_sum)\n",
    "            arg1_index+=1\n",
    "         return arg1\n",
    "\n",
    "arg_str_1=['1','2','3']\n",
    "arg_str_2=['1','1','1']\n",
    "\n",
    "arg1=[1,2,3]\n",
    "arg2=[1,1,1]\n",
    "\n",
    "two_a = function_mod(arg1,arg2)\n",
    "print(two_a)\n",
    "\n",
    "two_a_string = function_mod(arg_str_1, arg_str_2)\n",
    "print(two_a_string)\n"
   ]
  },
  {
   "cell_type": "code",
   "execution_count": 88,
   "id": "e122a020",
   "metadata": {},
   "outputs": [
    {
     "ename": "Exception",
     "evalue": "Your input argument(['1', '1', 1]) at element 2 is not of the expectd type. Please change this and rerun.",
     "output_type": "error",
     "traceback": [
      "\u001b[0;31m---------------------------------------------------------------------------\u001b[0m",
      "\u001b[0;31mException\u001b[0m                                 Traceback (most recent call last)",
      "Input \u001b[0;32mIn [88]\u001b[0m, in \u001b[0;36m<cell line: 39>\u001b[0;34m()\u001b[0m\n\u001b[1;32m     36\u001b[0m arg_str_1\u001b[38;5;241m=\u001b[39m[\u001b[38;5;124m'\u001b[39m\u001b[38;5;124m1\u001b[39m\u001b[38;5;124m'\u001b[39m,\u001b[38;5;124m'\u001b[39m\u001b[38;5;124m2\u001b[39m\u001b[38;5;124m'\u001b[39m, \u001b[38;5;124m'\u001b[39m\u001b[38;5;124m3\u001b[39m\u001b[38;5;124m'\u001b[39m]\n\u001b[1;32m     37\u001b[0m arg_str_2\u001b[38;5;241m=\u001b[39m[\u001b[38;5;124m'\u001b[39m\u001b[38;5;124m1\u001b[39m\u001b[38;5;124m'\u001b[39m,\u001b[38;5;124m'\u001b[39m\u001b[38;5;124m1\u001b[39m\u001b[38;5;124m'\u001b[39m, \u001b[38;5;241m1\u001b[39m]\n\u001b[0;32m---> 39\u001b[0m \u001b[43mexception_add_function\u001b[49m\u001b[43m(\u001b[49m\u001b[43marg_str_1\u001b[49m\u001b[43m,\u001b[49m\u001b[43marg_str_2\u001b[49m\u001b[43m)\u001b[49m\n",
      "Input \u001b[0;32mIn [88]\u001b[0m, in \u001b[0;36mexception_add_function\u001b[0;34m(arg1, arg2)\u001b[0m\n\u001b[1;32m     31\u001b[0m \u001b[38;5;28;01mfor\u001b[39;00m x \u001b[38;5;129;01min\u001b[39;00m \u001b[38;5;28mrange\u001b[39m(\u001b[38;5;28mlen\u001b[39m(arg2)):\n\u001b[1;32m     32\u001b[0m     \u001b[38;5;28;01mif\u001b[39;00m \u001b[38;5;28misinstance\u001b[39m(arg2[x], \u001b[38;5;28mstr\u001b[39m)\u001b[38;5;241m!=\u001b[39m\u001b[38;5;28;01mTrue\u001b[39;00m: \u001b[38;5;66;03m# so if the value @ that index x is not a string, raise the exception\u001b[39;00m\n\u001b[0;32m---> 33\u001b[0m         \u001b[38;5;28;01mraise\u001b[39;00m \u001b[38;5;167;01mException\u001b[39;00m(\u001b[38;5;124mf\u001b[39m\u001b[38;5;124m\"\u001b[39m\u001b[38;5;124mYour input argument(\u001b[39m\u001b[38;5;132;01m{\u001b[39;00marg2\u001b[38;5;132;01m}\u001b[39;00m\u001b[38;5;124m) at element \u001b[39m\u001b[38;5;132;01m{\u001b[39;00mx\u001b[38;5;132;01m}\u001b[39;00m\u001b[38;5;124m is not of the expectd type. Please change this and rerun.\u001b[39m\u001b[38;5;124m\"\u001b[39m)\n",
      "\u001b[0;31mException\u001b[0m: Your input argument(['1', '1', 1]) at element 2 is not of the expectd type. Please change this and rerun."
     ]
    }
   ],
   "source": [
    "# 2b\n",
    "# I couldn't figure out how to do this without modifying the code and with a try/except block.\n",
    "# Based on some feedback in the discussion it seems that this could be because the code itself does not throw errors.\n",
    "# I used the feedback from the discussion, namely Robin, Kayleigh, Bryce, and a few others, that this may be more\n",
    "# easily done using the raise Exception. Not what the question is asking but I cannot solve it the other way.\n",
    "\n",
    "# rewrote function to get rid of the red words, seems to work the same tho. \n",
    "def exception_add_function(arg1,arg2):\n",
    "    if sum([type(i)==int for i in arg1])==len(arg1) and \\\n",
    "    sum([type(i)==int for i in arg2])==len(arg2):\n",
    "        arg1_index = 0\n",
    "        while arg1_index < len(arg1):\n",
    "            arg_2_sum = 0 \n",
    "            for arg2_elements in arg2:\n",
    "                arg_2_sum = arg1[arg1_index]+arg2[arg1_index] #code change with that from 1b\n",
    "            arg1[arg1_index] = arg_2_sum\n",
    "            arg1_index+=1\n",
    "        return arg1\n",
    "    \n",
    "    elif sum([type(i)==str for i in arg1])==len(arg1) and sum([type(i)==str for i in arg2])==len(arg2):\n",
    "        arg1_index = 0\n",
    "        while arg1_index < len(arg1):\n",
    "            arg_2_sum = ''\n",
    "            for arg2_elements in arg2:\n",
    "                arg_2_sum += arg2_elements\n",
    "            arg1[arg1_index]=arg1[arg1_index]+str(arg_2_sum)\n",
    "            arg1_index+=1\n",
    "        return arg1\n",
    "    \n",
    "    if sum([type(i)==str for i in arg2])!=len(arg2): #saying if all the objects are not strings, do the following...\n",
    "        for x in range(len(arg2)):\n",
    "            if isinstance(arg2[x], str)!=True: # so if the value @ that index x is not a string, raise the exception\n",
    "                raise Exception(f\"Your input argument({arg2}) at element {x} is not of the expectd type. Please change this and rerun.\")\n",
    "                \n",
    "    \n",
    "arg_str_1=['1','2', '3']\n",
    "arg_str_2=['1','1', 1]\n",
    "\n",
    "exception_add_function(arg_str_1,arg_str_2)"
   ]
  },
  {
   "cell_type": "code",
   "execution_count": 90,
   "id": "8f5837d4",
   "metadata": {},
   "outputs": [],
   "source": [
    "# 2c\n",
    "# Likewise I dont understand how to do it with the try/except block.\n",
    "# I could do it the way I did above basically, but thats not what you're looking for.\n",
    "# Unclear to me how many functions there should be in this one either, question just confused me.\n",
    "\n",
    "\n",
    "def correction_add_function(arg1,arg2):\n",
    "    if sum([type(i)==int for i in arg1])==len(arg1) and sum([type(i)==int for i in arg2])==len(arg2):\n",
    "        arg1_index = 0\n",
    "        while arg1_index < len(arg1):\n",
    "            arg_2_sum = 0 \n",
    "            for arg2_elements in arg2:\n",
    "                arg_2_sum = arg1[arg1_index]+arg2[arg1_index] #code change with that from 1b\n",
    "            arg1[arg1_index] = arg_2_sum\n",
    "            arg1_index+=1\n",
    "        return arg1\n",
    "    \n",
    "    elif sum([type(i)==str for i in arg1])==len(arg1) and sum([type(i)==str for i in arg2])==len(arg2):\n",
    "        arg1_index = 0\n",
    "        while arg1_index < len(arg1):\n",
    "            arg_2_sum = ''\n",
    "            for arg2_elements in arg2:\n",
    "                arg_2_sum += arg2_elements\n",
    "            arg1[arg1_index]=arg1[arg1_index]+str(arg_2_sum)\n",
    "            arg1_index+=1\n",
    "        return arg1\n",
    "\n",
    "                   \n",
    "    \n",
    "arg_str_1=['1','2','3']\n",
    "arg_str_2=['1','1', 1]\n",
    "\n",
    "\n",
    "correction_add_function(arg_str_1,arg_str_2)"
   ]
  },
  {
   "cell_type": "code",
   "execution_count": null,
   "id": "882eade2",
   "metadata": {},
   "outputs": [],
   "source": []
  }
 ],
 "metadata": {
  "kernelspec": {
   "display_name": "Python 3 (ipykernel)",
   "language": "python",
   "name": "python3"
  },
  "language_info": {
   "codemirror_mode": {
    "name": "ipython",
    "version": 3
   },
   "file_extension": ".py",
   "mimetype": "text/x-python",
   "name": "python",
   "nbconvert_exporter": "python",
   "pygments_lexer": "ipython3",
   "version": "3.9.12"
  }
 },
 "nbformat": 4,
 "nbformat_minor": 5
}
